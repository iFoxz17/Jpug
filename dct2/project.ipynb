{
  "cells": [
    {
      "cell_type": "markdown",
      "metadata": {
        "id": "EfQ7NyB5VEeR"
      },
      "source": [
        "# Metodi del calcolo scientifico - **Progetto 2**\n",
        "\n",
        "- Volpato Mattia 866316\n",
        "- Andreotti Stefano 851596"
      ]
    },
    {
      "cell_type": "markdown",
      "metadata": {
        "id": "yHbUfNX3VQlE"
      },
      "source": [
        "## Installazione delle dipendenze"
      ]
    },
    {
      "cell_type": "markdown",
      "metadata": {
        "id": "XabaZUwbVp0o"
      },
      "source": [
        "## Importazione delle librerie"
      ]
    },
    {
      "cell_type": "code",
      "execution_count": 1,
      "metadata": {
        "id": "C6dIGX_78RlE"
      },
      "outputs": [],
      "source": [
        "import scipy.fftpack as fft\n",
        "import numpy as np\n",
        "\n",
        "import time\n",
        "import matplotlib.pyplot as plt"
      ]
    },
    {
      "cell_type": "markdown",
      "metadata": {
        "id": "qqaocq40V0SX"
      },
      "source": [
        "## Scaling della DCT"
      ]
    },
    {
      "cell_type": "markdown",
      "metadata": {
        "id": "BqIk6K0Iy5kc"
      },
      "source": [
        "### DCT"
      ]
    },
    {
      "cell_type": "code",
      "execution_count": 2,
      "metadata": {
        "colab": {
          "base_uri": "https://localhost:8080/"
        },
        "id": "DbUL3YuaxDwX",
        "outputId": "6b8418e3-b367-475d-b378-7369df0c64a2"
      },
      "outputs": [
        {
          "data": {
            "text/plain": [
              "array([ 401.9902051 ,    6.60001991,  109.16736544, -112.78557857,\n",
              "         65.40737726,  121.83139804,  116.65648855,   28.80040722])"
            ]
          },
          "execution_count": 2,
          "metadata": {},
          "output_type": "execute_result"
        }
      ],
      "source": [
        "v = np.array([231, 32, 233, 161, 24, 71, 140, 245], dtype=np.uint8)\n",
        "v_expected = np.array([4.01e+02, 6.60e+00, 1.09e+02, -1.12e+02, 6.54e+01, 1.21e+02, 1.16e+02, 2.88e+01])\n",
        "epsilon = 1e-2\n",
        "\n",
        "v_cos = fft.dctn(v, axes=0, type=2, norm='ortho')\n",
        "\n",
        "assert np.allclose(v_expected, v_cos, rtol=epsilon), \"DCT not corresponding\"\n",
        "v_cos"
      ]
    },
    {
      "cell_type": "code",
      "execution_count": 3,
      "metadata": {
        "colab": {
          "base_uri": "https://localhost:8080/"
        },
        "id": "74-9e-_w2X2p",
        "outputId": "71cf5238-cbdf-499b-ec94-73354bc6a6f7"
      },
      "outputs": [
        {
          "data": {
            "text/plain": [
              "array([231,  32, 233, 161,  24,  71, 140, 245], dtype=uint8)"
            ]
          },
          "execution_count": 3,
          "metadata": {},
          "output_type": "execute_result"
        }
      ],
      "source": [
        "v_inv = fft.idctn(v_cos, axes=0, type=2, norm='ortho').astype(np.uint8)\n",
        "\n",
        "assert np.array_equal(v, v_inv), 'IDCT not corresponding'\n",
        "v_inv"
      ]
    },
    {
      "cell_type": "markdown",
      "metadata": {
        "id": "i7Ro076dy9u2"
      },
      "source": [
        "### DCT2"
      ]
    },
    {
      "cell_type": "code",
      "execution_count": 4,
      "metadata": {
        "colab": {
          "base_uri": "https://localhost:8080/"
        },
        "id": "pdCyhO_-8RlF",
        "outputId": "36378655-28e0-482a-e338-d446867bc1f2"
      },
      "outputs": [
        {
          "data": {
            "text/plain": [
              "array([[ 1.11875000e+03,  4.40221926e+01,  7.59190503e+01,\n",
              "        -1.38572411e+02,  3.50000000e+00,  1.22078055e+02,\n",
              "         1.95043868e+02, -1.01604906e+02],\n",
              "       [ 7.71900790e+01,  1.14868206e+02, -2.18014421e+01,\n",
              "         4.13641351e+01,  8.77720598e+00,  9.90829620e+01,\n",
              "         1.38171516e+02,  1.09092795e+01],\n",
              "       [ 4.48351537e+01, -6.27524464e+01,  1.11614114e+02,\n",
              "        -7.63789658e+01,  1.24422160e+02,  9.55984194e+01,\n",
              "        -3.98287969e+01,  5.85237670e+01],\n",
              "       [-6.99836647e+01, -4.02408945e+01, -2.34970508e+01,\n",
              "        -7.67320594e+01,  2.66457750e+01, -3.68328290e+01,\n",
              "         6.61891485e+01,  1.25429731e+02],\n",
              "       [-1.09000000e+02, -4.33430857e+01, -5.55436908e+01,\n",
              "         8.17347083e+00,  3.02500000e+01, -2.86602437e+01,\n",
              "         2.44149822e+00, -9.41437025e+01],\n",
              "       [-5.38783591e+00,  5.66345009e+01,  1.73021519e+02,\n",
              "        -3.54234494e+01,  3.23878249e+01,  3.34576728e+01,\n",
              "        -5.81167864e+01,  1.90225615e+01],\n",
              "       [ 7.88439693e+01, -6.45924096e+01,  1.18671203e+02,\n",
              "        -1.50904840e+01, -1.37316928e+02, -3.06196663e+01,\n",
              "        -1.05114114e+02,  3.98130497e+01],\n",
              "       [ 1.97882438e+01, -7.81813409e+01,  9.72311860e-01,\n",
              "        -7.23464180e+01, -2.15781633e+01,  8.12999035e+01,\n",
              "         6.37103782e+01,  5.90618071e+00]])"
            ]
          },
          "execution_count": 4,
          "metadata": {},
          "output_type": "execute_result"
        }
      ],
      "source": [
        "v = np.array([[231, 32, 233, 161, 24, 71, 140, 245],\n",
        "              [247, 40, 248, 245, 124, 204, 36, 107],\n",
        "              [234, 202, 245, 167, 9, 217, 239, 173],\n",
        "              [193, 190, 100, 167, 43, 180, 8, 70],\n",
        "              [11, 24, 210, 177, 81, 243, 8, 112],\n",
        "              [97, 195, 203, 47, 125, 114, 165, 181],\n",
        "              [193, 70, 174, 167, 41, 30, 127, 245],\n",
        "              [87, 149, 57, 192, 65, 129, 178, 228]])\n",
        "\n",
        "v_expected = np.array([[1.11e+03,  4.40e+01,  7.59e+01, -1.38e+02, 3.50e+00, 1.22e+02, 1.95e+02, -1.01e+02],\n",
        "                       [7.71e+01,  1.14e+02, -2.18e+01, 4.13e+01, 8.77e+00, 9.90e+01, 1.38e+02, 1.09e+01],\n",
        "                       [4.48e+01, -6.27e+01, 1.11e+02, -7.63e+01, 1.24e+02, 9.55e+01, -3.98e+01, 5.85e+01],\n",
        "                       [-6.99e+01, -4.02e+01, -2.34e+01, -7.67e+01, 2.66e+01, -3.68e+01, 6.61e+01, 1.25e+02],\n",
        "                       [-1.09e+02, -4.33e+01, -5.55e+01, 8.17e+00, 3.02e+01, -2.86e+01, 2.44e+00, -9.41e+01],\n",
        "                       [-5.38e+00, 5.66e+01, 1.73e+02, -3.54e+01, 3.23e+01, 3.34e+01, -5.81e+01, 1.90e+01],\n",
        "                       [7.88e+01, -6.45e+01, 1.18e+02, -1.50e+01, -1.37e+02, -3.06e+01, -1.05e+02, 3.98e+01],\n",
        "                       [1.97e+01, -7.81e+01, 9.72e-01, -7.23e+01, -2.15e+01, 8.13e+01, 6.37e+01, 5.90e+00]])\n",
        "epsilon = 1e-2\n",
        "\n",
        "v_cos_x = fft.dctn(v, axes=0, type=2, norm='ortho')\n",
        "v_cos = fft.dctn(v_cos_x, axes=1, type=2, norm='ortho')\n",
        "\n",
        "assert np.allclose(v_expected, v_cos, rtol=epsilon), \"DCT2 not corresponding\"\n",
        "v_cos"
      ]
    },
    {
      "cell_type": "code",
      "execution_count": 5,
      "metadata": {
        "colab": {
          "base_uri": "https://localhost:8080/"
        },
        "id": "Pbiqxir13Lug",
        "outputId": "bf8664b5-a564-491e-dc71-aeba95729f75"
      },
      "outputs": [
        {
          "data": {
            "text/plain": [
              "array([[231,  32, 233, 161,  24,  71, 140, 245],\n",
              "       [247,  40, 248, 245, 124, 204,  36, 107],\n",
              "       [234, 202, 245, 167,   9, 217, 239, 173],\n",
              "       [193, 190, 100, 167,  43, 180,   8,  70],\n",
              "       [ 11,  24, 210, 177,  81, 243,   8, 112],\n",
              "       [ 97, 195, 203,  47, 125, 114, 165, 181],\n",
              "       [193,  70, 174, 167,  41,  30, 127, 245],\n",
              "       [ 87, 149,  57, 192,  65, 129, 178, 228]], dtype=uint8)"
            ]
          },
          "execution_count": 5,
          "metadata": {},
          "output_type": "execute_result"
        }
      ],
      "source": [
        "v_inv_y = fft.idctn(v_cos, axes=1, type=2, norm='ortho')\n",
        "v_inv = fft.idctn(v_inv_y, axes=0, type=2, norm='ortho').astype(np.uint8)\n",
        "\n",
        "assert np.array_equal(v, v_inv), 'IDCT2 not corresponding'\n",
        "v_inv"
      ]
    },
    {
      "cell_type": "markdown",
      "metadata": {
        "id": "pEA2omipEILf"
      },
      "source": [
        "## Parte 1"
      ]
    },
    {
      "cell_type": "code",
      "execution_count": 6,
      "metadata": {
        "id": "QptwsethNdSJ"
      },
      "outputs": [],
      "source": [
        "def check_dct_correctenness(dct_functor:callable, v:np.array=None, v_expected:np.array=None):\n",
        "  if v is None:\n",
        "    v = np.array([231, 32, 233, 161, 24, 71, 140, 245], dtype=np.uint8)\n",
        "    v_expected = np.array([4.01e+02, 6.60e+00, 1.09e+02, -1.12e+02, 6.54e+01, 1.21e+02, 1.16e+02, 2.88e+01])\n",
        "  epsilon = 1e-2\n",
        "\n",
        "  v_computed = dct_functor(v)\n",
        "\n",
        "  if not np.allclose(v_expected, v_computed, rtol=epsilon):\n",
        "    return False\n",
        "  return True\n"
      ]
    },
    {
      "cell_type": "code",
      "execution_count": 7,
      "metadata": {
        "id": "wVEXMKj8P8D5"
      },
      "outputs": [],
      "source": [
        "def check_dct2_correctenness(dct2_functor:callable, v:np.array=None, v_expected:np.array=None):\n",
        "  if v is None:\n",
        "    v = np.array([[231, 32, 233, 161, 24, 71, 140, 245],\n",
        "                [247, 40, 248, 245, 124, 204, 36, 107],\n",
        "                [234, 202, 245, 167, 9, 217, 239, 173],\n",
        "                [193, 190, 100, 167, 43, 180, 8, 70],\n",
        "                [11, 24, 210, 177, 81, 243, 8, 112],\n",
        "                [97, 195, 203, 47, 125, 114, 165, 181],\n",
        "                [193, 70, 174, 167, 41, 30, 127, 245],\n",
        "                [87, 149, 57, 192, 65, 129, 178, 228]])\n",
        "\n",
        "    v_expected = np.array([[1.11e+03,  4.40e+01,  7.59e+01, -1.38e+02, 3.50e+00, 1.22e+02, 1.95e+02, -1.01e+02],\n",
        "                          [7.71e+01,  1.14e+02, -2.18e+01, 4.13e+01, 8.77e+00, 9.90e+01, 1.38e+02, 1.09e+01],\n",
        "                          [4.48e+01, -6.27e+01, 1.11e+02, -7.63e+01, 1.24e+02, 9.55e+01, -3.98e+01, 5.85e+01],\n",
        "                          [-6.99e+01, -4.02e+01, -2.34e+01, -7.67e+01, 2.66e+01, -3.68e+01, 6.61e+01, 1.25e+02],\n",
        "                          [-1.09e+02, -4.33e+01, -5.55e+01, 8.17e+00, 3.02e+01, -2.86e+01, 2.44e+00, -9.41e+01],\n",
        "                          [-5.38e+00, 5.66e+01, 1.73e+02, -3.54e+01, 3.23e+01, 3.34e+01, -5.81e+01, 1.90e+01],\n",
        "                          [7.88e+01, -6.45e+01, 1.18e+02, -1.50e+01, -1.37e+02, -3.06e+01, -1.05e+02, 3.98e+01],\n",
        "                          [1.97e+01, -7.81e+01, 9.72e-01, -7.23e+01, -2.15e+01, 8.13e+01, 6.37e+01, 5.90e+00]])\n",
        "\n",
        "  v_computed = dct2_functor(v)\n",
        "\n",
        "  epsilon = 1e-2\n",
        "  if not np.allclose(v_expected, v_computed, rtol=epsilon):\n",
        "    return False\n",
        "  \n",
        "  v = np.random.randint(0, 256, (32, 32), dtype=np.uint8)\n",
        "  v_expected = fft.dctn(v, axes=(0, 1), type=2, norm='ortho')\n",
        "\n",
        "  v_computed = dct2_functor(v)\n",
        "\n",
        "  epsilon = 1e-9\n",
        "  if not np.allclose(v_expected, v_computed, rtol=epsilon):\n",
        "    return False\n",
        "\n",
        "  return True"
      ]
    },
    {
      "cell_type": "markdown",
      "metadata": {
        "id": "aaoY5n8KCOB8"
      },
      "source": [
        "### DCT"
      ]
    },
    {
      "cell_type": "markdown",
      "metadata": {
        "id": "OFMk63kWN2aa"
      },
      "source": [
        "#### DCT naive\n",
        "\n",
        "Applica la definizione utilizzando dei `for` ***loops***."
      ]
    },
    {
      "cell_type": "code",
      "execution_count": 8,
      "metadata": {
        "id": "xrvBARjdrtQU"
      },
      "outputs": [],
      "source": [
        "def dct_naive(x:np.array):\n",
        "  N = len(x)\n",
        "  sqrt_N, sqrt_2 = np.sqrt(N), np.sqrt(2)\n",
        "  dct_x = np.zeros(N, dtype=np.float64)\n",
        "  coeff = np.pi / (2 * N)\n",
        "\n",
        "  for k in range(N):\n",
        "    a_k = 0.0\n",
        "    coeff_k = coeff * k\n",
        "    for i, x_i in enumerate(x):\n",
        "      a_k += np.cos(coeff_k * (2 * i + 1)) * x_i\n",
        "    dct_x[k] = a_k / sqrt_N * sqrt_2\n",
        "\n",
        "  dct_x[0] /= sqrt_2\n",
        "\n",
        "  return dct_x"
      ]
    },
    {
      "cell_type": "code",
      "execution_count": 9,
      "metadata": {
        "colab": {
          "base_uri": "https://localhost:8080/"
        },
        "id": "5sZepZ-YOgLG",
        "outputId": "4ff4fe15-a29e-4609-90ef-c14d865f4c06"
      },
      "outputs": [
        {
          "data": {
            "text/plain": [
              "True"
            ]
          },
          "execution_count": 9,
          "metadata": {},
          "output_type": "execute_result"
        }
      ],
      "source": [
        "check_dct_correctenness(dct_naive)"
      ]
    },
    {
      "cell_type": "markdown",
      "metadata": {
        "id": "4KwQvDxWOISD"
      },
      "source": [
        "#### DCT outer\n",
        "\n",
        "Computa tutti i coefficienti utilizzando il ***prodotto esterno*** e poi sfrutta il ***prodotto riga colonna*** tra matrici.  "
      ]
    },
    {
      "cell_type": "markdown",
      "metadata": {
        "id": "OH9tzL7oDf87"
      },
      "source": [
        "- `np.outer` performa il ***prodotto esterno*** di due vettori:\n",
        "\n",
        "\\begin{equation}\n",
        "⊗ : (n × 1) × (m × 1) → (n × m)\n",
        "\\end{equation}\n",
        "\n",
        "dove\n",
        "\n",
        "\\begin{equation}\n",
        "\\begin{bmatrix}\n",
        "a_1 \\\\\n",
        "a_2 \\\\\n",
        "\\vdots \\\\\n",
        "a_n\n",
        "\\end{bmatrix}\n",
        "⊗\n",
        "\\begin{bmatrix}\n",
        "b_1 \\\\\n",
        "b_2 \\\\\n",
        "\\vdots \\\\\n",
        "b_m\n",
        "\\end{bmatrix}\n",
        "=\n",
        "\\underline{v_1} ⊗ \\underline{v_2} = \\underline{v_1} \\cdot \\underline{v_2}^{T}\n",
        "=\n",
        "\\begin{bmatrix}\n",
        "a_1 \\\\\n",
        "a_2 \\\\\n",
        "\\vdots \\\\\n",
        "a_n\n",
        "\\end{bmatrix}\n",
        "\\cdot\n",
        "\\begin{bmatrix} b_1 & b_2 & ... & b_m \\end{bmatrix}\n",
        "=\n",
        "\\begin{bmatrix}\n",
        "a_1 ⋅ b_1 & a_1 ⋅ b_2 & ... & a_1 ⋅ b_m \\\\\n",
        "a_2 ⋅ b_1 & a_2 ⋅ b_2 & ... & a_2 ⋅ b_m \\\\\n",
        "\\vdots & \\vdots & \\ddots & \\vdots \\\\\n",
        "a_n ⋅ b_1 & a_n ⋅ b_2 & ... & a_n ⋅ b_m \\\\\n",
        "\\end{bmatrix}\n",
        "\\end{equation}\n",
        "\n",
        "- `@` performa il ***prodotto riga-colonna*** tra matrici.\n",
        "\n",
        "La **complessità spaziale** sale a $\\theta(N^2)$."
      ]
    },
    {
      "cell_type": "code",
      "execution_count": 10,
      "metadata": {
        "id": "Ut2R5ws-jT6x"
      },
      "outputs": [],
      "source": [
        "def dct_outer(x:np.array) -> np.array:\n",
        "    N = len(x)\n",
        "    k_vec = np.arange(N)                                         # [0, 1, ..., N]\n",
        "    n_vec = np.arange(N)                                         # [0, 1, ..., N]\n",
        "\n",
        "    const_coeff = np.pi / (2 * N)                                # (1 x 1)\n",
        "    var_coeff_vec = np.outer(k_vec, 2 * n_vec + 1)               # (N x N)\n",
        "    transform_matrix = np.cos(const_coeff * var_coeff_vec)       # (N x N)\n",
        "\n",
        "    result = transform_matrix @ x                                # (N x 1)\n",
        "\n",
        "    result[0] *= np.sqrt(1 / N)\n",
        "    result[1:] *= np.sqrt(2 / N)\n",
        "    return result"
      ]
    },
    {
      "cell_type": "code",
      "execution_count": 11,
      "metadata": {
        "colab": {
          "base_uri": "https://localhost:8080/"
        },
        "id": "NfPcw_1lPAJH",
        "outputId": "71f2bc5d-f664-42ec-a900-8ae5770ca4b8"
      },
      "outputs": [
        {
          "data": {
            "text/plain": [
              "True"
            ]
          },
          "execution_count": 11,
          "metadata": {},
          "output_type": "execute_result"
        }
      ],
      "source": [
        "check_dct_correctenness(dct_outer)"
      ]
    },
    {
      "cell_type": "markdown",
      "metadata": {
        "id": "gfbXb8urCRY7"
      },
      "source": [
        "### DCT2"
      ]
    },
    {
      "cell_type": "code",
      "execution_count": 12,
      "metadata": {
        "id": "VJ1ux4cGPE9a"
      },
      "outputs": [],
      "source": [
        "def dct2(x:np.array, dct_functor:callable) -> np.array:\n",
        "    dct2_temp = np.apply_along_axis(dct_functor, axis=0, arr=x)\n",
        "    dct2_x = np.apply_along_axis(dct_functor, axis=1, arr=dct2_temp)\n",
        "    return dct2_x"
      ]
    },
    {
      "cell_type": "markdown",
      "metadata": {
        "id": "nLGv9x6GQ9MP"
      },
      "source": [
        "#### DCT2 naive\n",
        "\n",
        "Utilizza `DCT naive`"
      ]
    },
    {
      "cell_type": "code",
      "execution_count": 13,
      "metadata": {
        "colab": {
          "base_uri": "https://localhost:8080/"
        },
        "id": "JsalrS5pMP0s",
        "outputId": "c3ffe539-26d5-43f2-89fe-6a856ba139a0"
      },
      "outputs": [
        {
          "data": {
            "text/plain": [
              "True"
            ]
          },
          "execution_count": 13,
          "metadata": {},
          "output_type": "execute_result"
        }
      ],
      "source": [
        "dct2_naive = lambda x : dct2(x, dct_naive)\n",
        "\n",
        "check_dct2_correctenness(dct2_naive)"
      ]
    },
    {
      "cell_type": "markdown",
      "metadata": {
        "id": "2gYyob-BRLzT"
      },
      "source": [
        "#### DCT2 outer\n",
        "\n",
        "Utilizza `DCT outer`"
      ]
    },
    {
      "cell_type": "code",
      "execution_count": 14,
      "metadata": {
        "colab": {
          "base_uri": "https://localhost:8080/"
        },
        "id": "-YjlCZ_GQyHd",
        "outputId": "afe575c7-dd8b-4608-bd39-9c530717c507"
      },
      "outputs": [
        {
          "data": {
            "text/plain": [
              "True"
            ]
          },
          "execution_count": 14,
          "metadata": {},
          "output_type": "execute_result"
        }
      ],
      "source": [
        "dct2_outer = lambda x : dct2(x, dct_outer)\n",
        "\n",
        "check_dct2_correctenness(dct2_outer)"
      ]
    },
    {
      "cell_type": "markdown",
      "metadata": {},
      "source": [
        "#### DCT2 outer no call\n",
        "\n",
        "Stessa idea di <code>DCT2 outer</code> ma, anzichè iterare sulle righe e sulle colonne e applicare la ***DCT***, sfrutta direttamente il **prodotto tra matrici**.\n",
        "\n",
        "La **complessità temporale** attesa è quella del **prodotto tra matrici**, che senza ottimizazzioni corrisponde a $\\theta(N^3)$.\n",
        "\n",
        "La **complessità spaziale** è $\\theta(\\max(N, M)^2)$."
      ]
    },
    {
      "cell_type": "code",
      "execution_count": 67,
      "metadata": {},
      "outputs": [],
      "source": [
        "def dct2_outer_no_call(x: np.array) -> np.array:                    # (N x M)\n",
        "    N, M = x.shape     \n",
        "    n_vec = np.arange(N)                                            # [0, 1, ..., N]        \n",
        "    m_vec = np.arange(M)                                            # [0, 1, ..., M]\n",
        "\n",
        "    const_coeff_N = np.pi / (2 * N)                                 # (1 x 1)    \n",
        "    const_coeff_M = np.pi / (2 * M)                                 # (1 x 1)\n",
        "\n",
        "    var_coeff_N = np.outer(n_vec, 2 * n_vec + 1)                   # (N x N)\n",
        "    var_coeff_M = np.outer(m_vec, 2 * m_vec + 1)                   # (M x M)\n",
        "\n",
        "    transform_matrix = np.cos(const_coeff_N * var_coeff_N)         # (N x N)\n",
        "    result = transform_matrix @ x                                   # (N x M)\n",
        "\n",
        "    transform_matrix = np.cos(const_coeff_M * var_coeff_M)         # (M x M)\n",
        "    result = result @ transform_matrix.T                            # (N x M)\n",
        "\n",
        "    result[0, :] *= np.sqrt(1 / N)\n",
        "    result[1:, :] *= np.sqrt(2 / N)\n",
        "    result[:, 0] *= np.sqrt(1 / M)\n",
        "    result[:, 1:] *= np.sqrt(2 / M)\n",
        "\n",
        "    return result"
      ]
    },
    {
      "cell_type": "code",
      "execution_count": 68,
      "metadata": {},
      "outputs": [
        {
          "data": {
            "text/plain": [
              "True"
            ]
          },
          "execution_count": 68,
          "metadata": {},
          "output_type": "execute_result"
        }
      ],
      "source": [
        "check_dct2_correctenness(dct2_outer_no_call)"
      ]
    },
    {
      "cell_type": "markdown",
      "metadata": {
        "id": "6OiLKDx3TheG"
      },
      "source": [
        "#### DCT2 lib\n",
        "\n",
        "Utilizza la funzione di libreria `fft.dctn(v, axes=(0, 1) type=2, norm='ortho')`, applicandola prima per righe (`axes = 0`) e poi per colonne (`axes = 1`)."
      ]
    },
    {
      "cell_type": "code",
      "execution_count": 17,
      "metadata": {
        "colab": {
          "base_uri": "https://localhost:8080/"
        },
        "id": "tzE2zgi1TxrV",
        "outputId": "9d03f5a8-5ba3-4b29-a460-30ccd91c5955"
      },
      "outputs": [
        {
          "data": {
            "text/plain": [
              "True"
            ]
          },
          "execution_count": 17,
          "metadata": {},
          "output_type": "execute_result"
        }
      ],
      "source": [
        "dct2_lib = lambda x : fft.dctn(x, axes=(0, 1), type=2, norm='ortho')\n",
        "\n",
        "check_dct2_correctenness(dct2_lib)"
      ]
    },
    {
      "cell_type": "markdown",
      "metadata": {
        "id": "GVOmZymNXejG"
      },
      "source": [
        "### Benchmark"
      ]
    },
    {
      "cell_type": "markdown",
      "metadata": {
        "id": "IPNoC_n0cYRu"
      },
      "source": [
        "#### Calcolo dei tempi"
      ]
    },
    {
      "cell_type": "code",
      "execution_count": 18,
      "metadata": {
        "id": "32W9jb89YIWy"
      },
      "outputs": [],
      "source": [
        "def retrieve_times(function:callable, v_:list[np.array], n_trial:int=3):\n",
        "  times = []\n",
        "\n",
        "  for v in v_:\n",
        "    times_v = []\n",
        "\n",
        "    for _ in range(n_trial):\n",
        "      start_time = time.time()\n",
        "\n",
        "      function(v)\n",
        "\n",
        "      end_time = time.time()\n",
        "      times_v.append(end_time - start_time)\n",
        "\n",
        "    times.append(np.mean(times_v))\n",
        "\n",
        "  return times"
      ]
    },
    {
      "cell_type": "markdown",
      "metadata": {},
      "source": [
        "##### Creazione delle matrici"
      ]
    },
    {
      "cell_type": "code",
      "execution_count": 19,
      "metadata": {
        "id": "I2gXFYYLQdGC"
      },
      "outputs": [],
      "source": [
        "N = 10\n",
        "N_ = [25 * 2**n for n in range(N)]"
      ]
    },
    {
      "cell_type": "code",
      "execution_count": 20,
      "metadata": {
        "colab": {
          "base_uri": "https://localhost:8080/"
        },
        "id": "js5FVFNcXjQX",
        "outputId": "38e75d71-83bf-40cc-eb95-b40c48234e0b"
      },
      "outputs": [
        {
          "data": {
            "text/plain": [
              "[((25, 25), 625, 0, 255, 127.6, 129.0),\n",
              " ((50, 50), 2500, 0, 255, 128.8888, 131.0),\n",
              " ((100, 100), 10000, 0, 255, 127.3933, 127.0),\n",
              " ((200, 200), 40000, 0, 255, 127.897875, 128.0),\n",
              " ((400, 400), 160000, 0, 255, 127.38224375, 127.0),\n",
              " ((800, 800), 640000, 0, 255, 127.498575, 128.0),\n",
              " ((1600, 1600), 2560000, 0, 255, 127.5665546875, 128.0),\n",
              " ((3200, 3200), 10240000, 0, 255, 127.5133669921875, 127.0),\n",
              " ((6400, 6400), 40960000, 0, 255, 127.50360803222657, 127.0),\n",
              " ((12800, 12800), 163840000, 0, 255, 127.49482985229493, 127.0)]"
            ]
          },
          "execution_count": 20,
          "metadata": {},
          "output_type": "execute_result"
        }
      ],
      "source": [
        "MAX_VALUE = 255\n",
        "MIN_VALUE = 0\n",
        "\n",
        "v_ = [np.random.randint(MIN_VALUE, MAX_VALUE + 1, size=(n, n), dtype=np.uint8) for n in N_]\n",
        "\n",
        "[(v.shape, v.size, np.min(v).min(), np.max(v), np.mean(v), np.median(v)) for v in v_]"
      ]
    },
    {
      "cell_type": "code",
      "execution_count": 21,
      "metadata": {
        "id": "_VwaykTtMSxZ"
      },
      "outputs": [],
      "source": [
        "OFFSET_NAIVE = 4\n",
        "OFFSET_OUTER = 6\n",
        "OFFSET_OUTER_NO_CALL = 9\n",
        "OFFSET_CPP = 6"
      ]
    },
    {
      "cell_type": "markdown",
      "metadata": {},
      "source": [
        "##### DCT2 naive"
      ]
    },
    {
      "cell_type": "code",
      "execution_count": 22,
      "metadata": {
        "colab": {
          "base_uri": "https://localhost:8080/"
        },
        "id": "q2TgPwx-Z-Oc",
        "outputId": "a8f02f98-0f61-482f-b881-abe53caeae0f"
      },
      "outputs": [
        {
          "data": {
            "text/plain": [
              "[0.04029242197672526,\n",
              " 0.25297705332438153,\n",
              " 1.9649183750152588,\n",
              " 16.244378089904785]"
            ]
          },
          "execution_count": 22,
          "metadata": {},
          "output_type": "execute_result"
        }
      ],
      "source": [
        "times_naive = retrieve_times(dct2_naive, v_[:OFFSET_NAIVE], n_trial=3)\n",
        "times_naive"
      ]
    },
    {
      "cell_type": "code",
      "execution_count": 23,
      "metadata": {},
      "outputs": [
        {
          "name": "stdout",
          "output_type": "stream",
          "text": [
            "           3             2\n",
            "2.175e-06 x - 3.753e-05 x + 0.001807 x - 0.01541\n"
          ]
        }
      ],
      "source": [
        "coefficients = np.polyfit(N_[:OFFSET_NAIVE], times_naive, deg=3)\n",
        "p_naive = np.poly1d(coefficients)\n",
        "\n",
        "print(p_naive)"
      ]
    },
    {
      "cell_type": "code",
      "execution_count": 24,
      "metadata": {},
      "outputs": [
        {
          "data": {
            "text/plain": [
              "array([1.33899916e+02, 1.09099195e+03, 8.81545576e+03, 7.08907494e+04,\n",
              "       5.68628777e+05, 4.55511041e+06])"
            ]
          },
          "execution_count": 24,
          "metadata": {},
          "output_type": "execute_result"
        }
      ],
      "source": [
        "times_expected_naive = p_naive(N_[OFFSET_NAIVE:])\n",
        "\n",
        "times_expected_naive"
      ]
    },
    {
      "cell_type": "markdown",
      "metadata": {},
      "source": [
        "##### DCT2 outer"
      ]
    },
    {
      "cell_type": "code",
      "execution_count": 25,
      "metadata": {
        "colab": {
          "base_uri": "https://localhost:8080/"
        },
        "id": "801qdwsiZ6ht",
        "outputId": "8a5c8859-c130-4d8d-c3f2-b8b921eb5e69"
      },
      "outputs": [
        {
          "data": {
            "text/plain": [
              "[0.0013759136199951172,\n",
              " 0.009692112604777018,\n",
              " 0.06456518173217773,\n",
              " 0.3381667137145996,\n",
              " 2.2810209592183432,\n",
              " 15.673198699951172]"
            ]
          },
          "execution_count": 25,
          "metadata": {},
          "output_type": "execute_result"
        }
      ],
      "source": [
        "times_outer = retrieve_times(dct2_outer, v_[:OFFSET_OUTER], n_trial=3)\n",
        "times_outer"
      ]
    },
    {
      "cell_type": "code",
      "execution_count": 26,
      "metadata": {},
      "outputs": [
        {
          "name": "stdout",
          "output_type": "stream",
          "text": [
            "           3             2\n",
            "2.469e-08 x + 5.144e-06 x - 0.000337 x + 0.01076\n"
          ]
        }
      ],
      "source": [
        "coefficients = np.polyfit(N_[:OFFSET_OUTER], times_outer, deg=3)\n",
        "p_outer = np.poly1d(coefficients)\n",
        "\n",
        "print(p_outer)"
      ]
    },
    {
      "cell_type": "code",
      "execution_count": 27,
      "metadata": {},
      "outputs": [
        {
          "data": {
            "text/plain": [
              "array([  113.75901918,   860.5525078 ,  6680.09745525, 52610.77514193])"
            ]
          },
          "execution_count": 27,
          "metadata": {},
          "output_type": "execute_result"
        }
      ],
      "source": [
        "times_expected_outer = p_outer(N_[OFFSET_OUTER:])\n",
        "times_expected_outer"
      ]
    },
    {
      "cell_type": "markdown",
      "metadata": {},
      "source": [
        "##### DCT2 outer no call"
      ]
    },
    {
      "cell_type": "code",
      "execution_count": 65,
      "metadata": {},
      "outputs": [
        {
          "data": {
            "text/plain": [
              "[0.0001283736261252,\n",
              " 0.002944389979044596,\n",
              " 0.0005745093027750651,\n",
              " 0.0018496513366699219,\n",
              " 0.014482657114664713,\n",
              " 0.04184603691101074,\n",
              " 0.23691797256469727,\n",
              " 1.7182165781656902,\n",
              " 10.58630625406901]"
            ]
          },
          "execution_count": 65,
          "metadata": {},
          "output_type": "execute_result"
        }
      ],
      "source": [
        "times_outer_no_call = retrieve_times(dct2_outer_no_call, v_[:OFFSET_OUTER_NO_CALL], n_trial=3)\n",
        "times_outer_no_call"
      ]
    },
    {
      "cell_type": "markdown",
      "metadata": {},
      "source": [
        "##### DCT2 Cpp"
      ]
    },
    {
      "cell_type": "code",
      "execution_count": 29,
      "metadata": {},
      "outputs": [
        {
          "data": {
            "text/plain": [
              "array([3.33333333e-04, 3.66666667e-03, 2.66666667e-02, 1.82000000e-01,\n",
              "       1.42666667e+00, 1.16360000e+01])"
            ]
          },
          "execution_count": 29,
          "metadata": {},
          "output_type": "execute_result"
        }
      ],
      "source": [
        "times_cpp = (np.array([0, 3, 27, 182, 1434, 11776]) + np.array([0, 3, 27, 183, 1420, 11379]) + np.array([1, 5, 26, 181, 1426, 11753])) / 1000 / 3\n",
        "times_cpp"
      ]
    },
    {
      "cell_type": "code",
      "execution_count": 30,
      "metadata": {},
      "outputs": [
        {
          "name": "stdout",
          "output_type": "stream",
          "text": [
            "           3             2\n",
            "2.365e-08 x - 9.513e-07 x + 0.0001751 x - 0.004691\n"
          ]
        }
      ],
      "source": [
        "coefficients = np.polyfit(N_[:OFFSET_CPP], times_cpp, deg=3)\n",
        "p_cpp = np.poly1d(coefficients)\n",
        "\n",
        "print(p_cpp)"
      ]
    },
    {
      "cell_type": "code",
      "execution_count": 31,
      "metadata": {},
      "outputs": [
        {
          "data": {
            "text/plain": [
              "array([   94.71583593,   765.82052119,  6162.20233326, 49446.79548942])"
            ]
          },
          "execution_count": 31,
          "metadata": {},
          "output_type": "execute_result"
        }
      ],
      "source": [
        "times_expected_cpp = p_cpp(N_[OFFSET_CPP:])\n",
        "times_expected_cpp"
      ]
    },
    {
      "cell_type": "markdown",
      "metadata": {},
      "source": [
        "##### DCT2 Lib"
      ]
    },
    {
      "cell_type": "code",
      "execution_count": 57,
      "metadata": {
        "colab": {
          "base_uri": "https://localhost:8080/"
        },
        "id": "iwS_1S-WZ8--",
        "outputId": "c13fd42e-d907-49d8-ad5b-2b74a63094b6"
      },
      "outputs": [
        {
          "data": {
            "text/plain": [
              "[0.00013162612915039,\n",
              " 0.00022814273834228515,\n",
              " 0.0006666473388671,\n",
              " 0.00146312154134114,\n",
              " 0.0033111095428466795,\n",
              " 0.008332109451293946,\n",
              " 0.04112653732299805,\n",
              " 0.18670074939727782,\n",
              " 1.0082051515579225,\n",
              " 5.000868487358093]"
            ]
          },
          "execution_count": 57,
          "metadata": {},
          "output_type": "execute_result"
        }
      ],
      "source": [
        "times_lib = retrieve_times(dct2_lib, v_, n_trial=10)\n",
        "times_lib "
      ]
    },
    {
      "cell_type": "markdown",
      "metadata": {
        "id": "8OD7wjh-cbbf"
      },
      "source": [
        "#### Plot"
      ]
    },
    {
      "cell_type": "code",
      "execution_count": 66,
      "metadata": {
        "colab": {
          "base_uri": "https://localhost:8080/",
          "height": 472
        },
        "id": "iigfDF0IZjjE",
        "outputId": "176038bc-e0de-45f7-86ed-2bbc182d8d1e"
      },
      "outputs": [
        {
          "data": {
            "image/png": "[encoded data removed]",
            "text/plain": [
              "<Figure size 640x480 with 1 Axes>"
            ]
          },
          "metadata": {},
          "output_type": "display_data"
        }
      ],
      "source": [
        "x_values = np.linspace(N_[0], N_[-1], 100)\n",
        "\n",
        "plt.plot(N_[:OFFSET_NAIVE], times_naive, marker='o', linestyle='-', label='dct2_naive', color='blue')\n",
        "plt.plot(N_[OFFSET_NAIVE - 1:], [times_naive[-1]] + list(times_expected_naive), marker='o', linestyle='--', color='blue')\n",
        "\n",
        "plt.plot(N_[:OFFSET_OUTER], times_outer, marker='o', linestyle='-', label='dct2_outer', color='green')\n",
        "plt.plot(N_[OFFSET_OUTER - 1:], [times_outer[-1]] + list(times_expected_outer), marker='o', linestyle='--', color='green')\n",
        "\n",
        "plt.plot(N_[:OFFSET_OUTER_NO_CALL], times_outer_no_call, marker='o', linestyle='-', label='dct2_outer_no_call', color='cyan')\n",
        "\n",
        "plt.plot(N_[:OFFSET_CPP], times_cpp, marker='o', linestyle='-', label='dct2_cpp', color='orange')\n",
        "plt.plot(N_[OFFSET_CPP - 1:], [times_cpp[-1]] + list(times_expected_cpp), marker='o', linestyle='--', color='orange')\n",
        "\n",
        "plt.plot(N_, times_lib, marker='o', linestyle='-', label='dct2_lib', color='red')\n",
        "\n",
        "plt.plot(x_values, [x**3 * 10e-6 for x in x_values], marker='', linestyle='-', label='$y=10^{-6}n^3$', color='black')\n",
        "\n",
        "plt.axhline(y=1, color='red', linestyle='--', linewidth=0.5)\n",
        "\n",
        "plt.xscale('log')\n",
        "plt.yscale('log')\n",
        "\n",
        "plt.xticks(ticks=N_, labels=N_)\n",
        "\n",
        "plt.xlabel('N')\n",
        "plt.ylabel('Time (s)')\n",
        "plt.legend()\n",
        "\n",
        "plt.title('Execution times for different DCT2 implementations')\n",
        "\n",
        "plt.show()"
      ]
    },
    {
      "cell_type": "code",
      "execution_count": null,
      "metadata": {},
      "outputs": [],
      "source": [
        "import pandas as pd\n",
        "\n",
        "implementations = ['CPP', 'OUTER', 'NAIVE']\n",
        "coefficients = [p_cpp[3], p_outer[3], p_naive[3]]\n",
        "\n",
        "df = pd.DataFrame({'Implementation': implementations, 'Cubic_coeff': coefficients})\n",
        "df"
      ]
    },
    {
      "cell_type": "markdown",
      "metadata": {
        "id": "Q1Y2PnZs8RlH"
      },
      "source": [
        "## Parte 2"
      ]
    },
    {
      "cell_type": "markdown",
      "metadata": {
        "id": "AzJkTd7a8RlI"
      },
      "source": [
        "### Importazione delle librerie"
      ]
    },
    {
      "cell_type": "code",
      "execution_count": null,
      "metadata": {
        "id": "WS6UmIa-8RlI"
      },
      "outputs": [],
      "source": [
        "from PIL import Image"
      ]
    },
    {
      "cell_type": "markdown",
      "metadata": {
        "id": "XGom3R7PWGfX"
      },
      "source": [
        "### Definizione dei parametri\n",
        "\n",
        "- $F$ : **Dimensione** dei **macro-blocchi** in cui suddividere l'immagine;\n",
        "- $d ∈ ℕ : 0 ≤ d ≤ 2F - 1 $ : **Soglia di taglio delle frequenze**."
      ]
    },
    {
      "cell_type": "code",
      "execution_count": null,
      "metadata": {
        "id": "Tc68UJtl8RlJ"
      },
      "outputs": [],
      "source": [
        "F = 32\n",
        "d = 20\n",
        "\n",
        "assert 0 <= d <= 2*F - 1, f\"d must be between 0 and (2F-1)={2*F - 1}\""
      ]
    },
    {
      "cell_type": "markdown",
      "metadata": {
        "id": "PsqroYrsXZzN"
      },
      "source": [
        "### Caricamento dell'immagine"
      ]
    },
    {
      "cell_type": "code",
      "execution_count": null,
      "metadata": {
        "colab": {
          "base_uri": "https://localhost:8080/",
          "height": 516
        },
        "id": "6r52ksd08RlJ",
        "outputId": "1b060e1b-ebcf-453a-8a00-decb6feaee6e"
      },
      "outputs": [],
      "source": [
        "bmp_image_path = \"..\\examples\\hot_guys.bmp\"\n",
        "\n",
        "# Apro l'immagine BMP\n",
        "image = Image.open(bmp_image_path)\n",
        "\n",
        "print(f\"Image size: {image.size}, Image mode: {image.mode}\")\n",
        "image"
      ]
    },
    {
      "cell_type": "markdown",
      "metadata": {
        "id": "iEhqVZXAXe1e"
      },
      "source": [
        "#### Eventuale conversione in scala di grigi"
      ]
    },
    {
      "cell_type": "code",
      "execution_count": null,
      "metadata": {
        "colab": {
          "base_uri": "https://localhost:8080/",
          "height": 516
        },
        "id": "csRbc4NR8RlJ",
        "outputId": "8427778a-7506-4746-d458-2a5a5de50a31"
      },
      "outputs": [],
      "source": [
        "if not image.mode == \"L\":\n",
        "    image = image.convert(\"L\")\n",
        "\n",
        "print(f\"Image size: {image.size}, Image mode: {image.mode}\")\n",
        "\n",
        "image"
      ]
    },
    {
      "cell_type": "code",
      "execution_count": null,
      "metadata": {
        "colab": {
          "base_uri": "https://localhost:8080/"
        },
        "id": "9J-4nHpS8RlK",
        "outputId": "af282ad5-b767-4b08-e00f-8f09ba979b0b"
      },
      "outputs": [],
      "source": [
        "image_array = np.array(image)\n",
        "x, y = image_array.shape\n",
        "x, y"
      ]
    },
    {
      "cell_type": "markdown",
      "metadata": {
        "id": "HeRXR9IBXkud"
      },
      "source": [
        "#### Troncamento dei pixel in eccesso"
      ]
    },
    {
      "cell_type": "code",
      "execution_count": null,
      "metadata": {
        "colab": {
          "base_uri": "https://localhost:8080/"
        },
        "id": "tHOThGno8RlK",
        "outputId": "20ec3372-ee75-48f8-fecb-481ac91a9388"
      },
      "outputs": [],
      "source": [
        "x = x - x%F\n",
        "y = y - y%F\n",
        "\n",
        "image_array = image_array[: x, : y]\n",
        "image_array.shape"
      ]
    },
    {
      "cell_type": "markdown",
      "metadata": {
        "id": "JxvPM4-nTOHR"
      },
      "source": [
        "Numero di blocchi"
      ]
    },
    {
      "cell_type": "code",
      "execution_count": null,
      "metadata": {
        "colab": {
          "base_uri": "https://localhost:8080/"
        },
        "id": "b0-UCGNgS2l4",
        "outputId": "7a81be7b-13a0-4171-e342-410fbfbcf770"
      },
      "outputs": [],
      "source": [
        "blocks_x = x // F\n",
        "blocks_y = y // F\n",
        "\n",
        "blocks_x, blocks_y"
      ]
    },
    {
      "cell_type": "markdown",
      "metadata": {
        "id": "yd2HkqTASTaR"
      },
      "source": [
        "### Suddivisione in blocchi"
      ]
    },
    {
      "cell_type": "code",
      "execution_count": null,
      "metadata": {
        "colab": {
          "base_uri": "https://localhost:8080/"
        },
        "id": "KBWx-OHiwOSL",
        "outputId": "29417db4-e213-49aa-82e0-f96f9d5199ea"
      },
      "outputs": [],
      "source": [
        "blocks = image_array.reshape((blocks_x, F, blocks_y, F)).swapaxes(1, 2)\n",
        "blocks.shape"
      ]
    },
    {
      "cell_type": "markdown",
      "metadata": {
        "id": "4e7frT6nSe4S"
      },
      "source": [
        "### DTC2"
      ]
    },
    {
      "cell_type": "code",
      "execution_count": null,
      "metadata": {
        "colab": {
          "base_uri": "https://localhost:8080/"
        },
        "id": "C9NoP_NcxeCk",
        "outputId": "f5ce8feb-0299-4b92-e96a-f5ae445d9b76"
      },
      "outputs": [],
      "source": [
        "dct_blocks = fft.dctn(blocks, axes=(2, 3), type=2, norm='ortho')\n",
        "\n",
        "dct_blocks.shape"
      ]
    },
    {
      "cell_type": "markdown",
      "metadata": {
        "id": "woUbFPvQSNaj"
      },
      "source": [
        "### Compressione"
      ]
    },
    {
      "cell_type": "code",
      "execution_count": null,
      "metadata": {
        "colab": {
          "base_uri": "https://localhost:8080/"
        },
        "id": "C-6cVzy4-Ka-",
        "outputId": "a960e7a8-aeb6-4edb-e185-30782c76b77d"
      },
      "outputs": [],
      "source": [
        "n = 0\n",
        "\n",
        "if d <= F:\n",
        "  n = (d) * (d + 1) // 2\n",
        "else:\n",
        "  n = int(2*F*d - 1/2*d*d - F*F - 1/2*d + F)\n",
        "\n",
        "F, d, n"
      ]
    },
    {
      "cell_type": "code",
      "execution_count": null,
      "metadata": {
        "colab": {
          "base_uri": "https://localhost:8080/"
        },
        "id": "vrOyZfyw8RlL",
        "outputId": "e531c5c2-2bc3-4b10-8a11-3ec8a05468c7"
      },
      "outputs": [],
      "source": [
        "dct_compressed_blocks = np.zeros((blocks_x, blocks_y, n), dtype=np.float64)\n",
        "\n",
        "dct_compressed_blocks.shape"
      ]
    },
    {
      "cell_type": "code",
      "execution_count": null,
      "metadata": {
        "id": "b7laUqBw38dO"
      },
      "outputs": [],
      "source": [
        "mask = np.rot90(np.triu(np.ones((F, F), dtype=bool), k = F - d), k=1)"
      ]
    },
    {
      "cell_type": "code",
      "execution_count": null,
      "metadata": {
        "colab": {
          "base_uri": "https://localhost:8080/"
        },
        "id": "msp1jRV-WOPP",
        "outputId": "f20a1029-b803-4057-f61f-52a9a1bc10b1"
      },
      "outputs": [],
      "source": [
        "for i, row_block in enumerate(dct_blocks):\n",
        "    for j, block in enumerate(row_block):\n",
        "        dct_compressed_blocks[i, j] = block[mask]\n",
        "\n",
        "dct_compressed_blocks.shape"
      ]
    },
    {
      "cell_type": "code",
      "execution_count": null,
      "metadata": {
        "colab": {
          "base_uri": "https://localhost:8080/"
        },
        "id": "jmEmqLAlHCeO",
        "outputId": "d11d8e09-c495-4ddf-ffd8-60820a967b71"
      },
      "outputs": [],
      "source": [
        "compressed_dim = dct_compressed_blocks.shape\n",
        "compressed_size = compressed_dim[0] * compressed_dim[1] * compressed_dim[2]\n",
        "\n",
        "print(f'Originale size: {image_array.size} elements')\n",
        "print(f'Compressed size: {compressed_size} elements')\n",
        "print(f'Space saved: {image_array.size - compressed_size} elements ({(image_array.size - compressed_size) / image_array.size * 100} %)')\n",
        "print(f'Expected space saved: {(F*F - n) * compressed_dim[0] * compressed_dim[1]} elements ({(1 - n/F/F) * 100} %)')"
      ]
    },
    {
      "cell_type": "markdown",
      "metadata": {
        "id": "_p5NwUKzRdG-"
      },
      "source": [
        "### Decompressione"
      ]
    },
    {
      "cell_type": "markdown",
      "metadata": {
        "id": "Q5cnWn87A_OF"
      },
      "source": [
        "#### Copia dei blocchi compressi in blocchi della dimensione originale"
      ]
    },
    {
      "cell_type": "code",
      "execution_count": null,
      "metadata": {
        "colab": {
          "base_uri": "https://localhost:8080/"
        },
        "id": "AEXrot0kRxFh",
        "outputId": "17cdd32c-8d31-4f9d-8b9f-97b0fc32ca69"
      },
      "outputs": [],
      "source": [
        "decompressed_blocks = np.zeros((blocks_x, blocks_y, F, F), dtype=np.float64)\n",
        "decompressed_blocks.shape"
      ]
    },
    {
      "cell_type": "markdown",
      "metadata": {
        "id": "yC11-dDIIk5i"
      },
      "source": [
        "Ritorna la maschera della matrice che si vuole estrarre"
      ]
    },
    {
      "cell_type": "code",
      "execution_count": null,
      "metadata": {
        "id": "SNBGSxLkBuH8"
      },
      "outputs": [],
      "source": [
        "def triu_secondary_mask(matrix, k):\n",
        "  matrix[:] = 0\n",
        "\n",
        "  N = len(matrix)\n",
        "  for i in range(min(N, k)):\n",
        "    matrix[i, : min(N, k - i)] = 1\n",
        "\n",
        "  return matrix"
      ]
    },
    {
      "cell_type": "code",
      "execution_count": null,
      "metadata": {
        "colab": {
          "base_uri": "https://localhost:8080/"
        },
        "id": "VRtTifDT-5dS",
        "outputId": "35520f60-3c32-422c-a6c8-96a2c73af61e"
      },
      "outputs": [],
      "source": [
        "decompressed_blocks = np.zeros((blocks_x, blocks_y, F, F), dtype=np.float64)\n",
        "\n",
        "triu_secondary_idx = np.mask_indices(F, triu_secondary_mask, k = d)\n",
        "\n",
        "for i, row_block in enumerate(decompressed_blocks):\n",
        "    for j, block in enumerate(row_block):\n",
        "        block[triu_secondary_idx[0], triu_secondary_idx[1]] = dct_compressed_blocks[i, j]\n",
        "\n",
        "decompressed_blocks.shape"
      ]
    },
    {
      "cell_type": "markdown",
      "metadata": {
        "id": "LZ2-pTnKAu79"
      },
      "source": [
        "#### IDCT2"
      ]
    },
    {
      "cell_type": "code",
      "execution_count": null,
      "metadata": {
        "colab": {
          "base_uri": "https://localhost:8080/"
        },
        "id": "2r95Aw-r8RlM",
        "outputId": "b7526d2b-0cd0-48a2-e422-04c202a74197"
      },
      "outputs": [],
      "source": [
        "for i, row_block in enumerate(decompressed_blocks):\n",
        "  for j, block in enumerate(row_block):\n",
        "    decompressed_blocks[i, j] = fft.idctn(block, axes=0, type=2, norm='ortho')\n",
        "    decompressed_blocks[i, j] = fft.idctn(decompressed_blocks[i, j], axes=1, type=2, norm='ortho')\n",
        "\n",
        "decompressed_blocks.shape"
      ]
    },
    {
      "cell_type": "code",
      "execution_count": null,
      "metadata": {
        "id": "yo5yAKeVGTc4"
      },
      "outputs": [],
      "source": [
        "decompressed_blocks = np.round(np.clip(decompressed_blocks, 0, 255)).astype('uint8')\n",
        "decompressed_blocks.shape"
      ]
    },
    {
      "cell_type": "markdown",
      "metadata": {
        "id": "pDLx0XbsE7TE"
      },
      "source": [
        "### Ricostruzione dell'immagine"
      ]
    },
    {
      "cell_type": "code",
      "execution_count": null,
      "metadata": {
        "colab": {
          "base_uri": "https://localhost:8080/"
        },
        "id": "YUkpDfQiRxFk",
        "outputId": "755d8204-ae95-457a-999a-d6717fbd1cd9"
      },
      "outputs": [],
      "source": [
        "compressed_image_array = np.zeros((x, y), np.uint8)\n",
        "compressed_image_array.shape"
      ]
    },
    {
      "cell_type": "code",
      "execution_count": null,
      "metadata": {
        "id": "wP2Gx_W8Jh0l"
      },
      "outputs": [],
      "source": [
        "compressed_image_array = decompressed_blocks.swapaxes(1, 2).reshape((x, y))"
      ]
    },
    {
      "cell_type": "code",
      "execution_count": null,
      "metadata": {
        "colab": {
          "base_uri": "https://localhost:8080/",
          "height": 488
        },
        "id": "RMCVk6BRCuB1",
        "outputId": "9102abdc-435e-41c3-d730-b33c624452ed"
      },
      "outputs": [],
      "source": [
        "compressed_image = Image.fromarray(compressed_image_array, mode='L')\n",
        "compressed_image"
      ]
    },
    {
      "cell_type": "code",
      "execution_count": null,
      "metadata": {
        "id": "O42T3ZJf74yi"
      },
      "outputs": [],
      "source": []
    }
  ],
  "metadata": {
    "colab": {
      "provenance": [],
      "toc_visible": true
    },
    "kernelspec": {
      "display_name": "Python 3",
      "language": "python",
      "name": "python3"
    },
    "language_info": {
      "codemirror_mode": {
        "name": "ipython",
        "version": 3
      },
      "file_extension": ".py",
      "mimetype": "text/x-python",
      "name": "python",
      "nbconvert_exporter": "python",
      "pygments_lexer": "ipython3",
      "version": "3.9.2"
    }
  },
  "nbformat": 4,
  "nbformat_minor": 0
}
